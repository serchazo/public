{
 "cells": [
  {
   "cell_type": "markdown",
   "metadata": {},
   "source": [
    "In this Jupyter Notebook, we will study the US unemployment rate between 1996 and 2000.  We will use a Python ARIMA model to generate a predictor and plot our predictor vs the actual time series.\n",
    "\n",
    "The process we will follow:\n",
    "1. Load and filter our data\n",
    "2. Use the Augmented Dickey-Fuller test to calculate the number of times we need to differenciate (if any) to eliminate trends in our data.\n",
    "3. We will iteratively test SARIMAX models from statsmodels to finde the parameters of our ARMA model.  We will try to minimize AIC/BIC to find the best values\n",
    "4. With the parameters found in 2 and 3, we will fit our time series and predict values for the last 20 months of the series.\n",
    "5. We will plot the predictions vs the actual time series"
   ]
  },
  {
   "cell_type": "code",
   "execution_count": 1,
   "metadata": {},
   "outputs": [],
   "source": [
    "import pandas as pd\n",
    "import numpy as np\n",
    "import matplotlib.pyplot as plt"
   ]
  },
  {
   "cell_type": "code",
   "execution_count": 12,
   "metadata": {},
   "outputs": [],
   "source": [
    "import warnings\n",
    "warnings.filterwarnings('ignore')\n",
    "warnings.simplefilter('ignore')"
   ]
  },
  {
   "cell_type": "markdown",
   "metadata": {},
   "source": [
    "First things first, we load our data and filter the period that we will study in this notebook.\n",
    "\n",
    "The US unemployment data was downloaded from https://fred.stlouisfed.org/.  "
   ]
  },
  {
   "cell_type": "code",
   "execution_count": 2,
   "metadata": {},
   "outputs": [],
   "source": [
    "# Load Unemployment rate\n",
    "uen = pd.read_csv('UNRATE.csv', parse_dates=True, index_col='DATE')\n",
    "uen = uen['1996-01-01':'2000-12-31'].dropna()"
   ]
  },
  {
   "cell_type": "code",
   "execution_count": 3,
   "metadata": {},
   "outputs": [
    {
     "data": {
      "image/png": "[encoded data removed]",
      "text/plain": [
       "<Figure size 432x288 with 1 Axes>"
      ]
     },
     "metadata": {
      "needs_background": "light"
     },
     "output_type": "display_data"
    }
   ],
   "source": [
    "uen.plot()\n",
    "plt.show()"
   ]
  },
  {
   "cell_type": "markdown",
   "metadata": {},
   "source": [
    "We get the number of differencing needed using the Augmented Dickey-Fuller test. "
   ]
  },
  {
   "cell_type": "code",
   "execution_count": 4,
   "metadata": {},
   "outputs": [],
   "source": [
    "# Import adfuller from statsmodels\n",
    "from statsmodels.tsa.stattools import adfuller"
   ]
  },
  {
   "cell_type": "code",
   "execution_count": 5,
   "metadata": {},
   "outputs": [
    {
     "name": "stdout",
     "output_type": "stream",
     "text": [
      "ADF Statistic: -1.2175874754792062\n",
      "p-value: 0.6659846372269607\n",
      "1st differencing ADF Statistic: -7.716175607974027\n",
      "1st differencing p-value: 1.2265857589437795e-11\n",
      "1st differencing ADF Statistic: -4.516761281254484\n",
      "1st differencing p-value: 0.0001833724487189293\n"
     ]
    }
   ],
   "source": [
    "# Get the differencing\n",
    "adf = adfuller(uen.iloc[:, 0])\n",
    "print('ADF Statistic:', adf[0])\n",
    "print('p-value:', adf[1])\n",
    "\n",
    "# First differencing\n",
    "adf = adfuller(uen.diff().dropna().iloc[:,0])\n",
    "print('1st differencing ADF Statistic:', adf[0])\n",
    "print('1st differencing p-value:', adf[1])\n",
    "\n",
    "# Second differencing\n",
    "adf = adfuller(uen.diff().diff().dropna().iloc[:,0])\n",
    "print('1st differencing ADF Statistic:', adf[0])\n",
    "print('1st differencing p-value:', adf[1])"
   ]
  },
  {
   "cell_type": "markdown",
   "metadata": {},
   "source": [
    "Our p-value after a 1st difference is less than 0.05, so first differencing is enough for this data."
   ]
  },
  {
   "cell_type": "markdown",
   "metadata": {},
   "source": [
    "The next step, we get the best ARMA parameters with AIC/BIC.\n",
    "\n",
    "So, we loop AIC / BIC models, trying to find the one that minimizes both."
   ]
  },
  {
   "cell_type": "code",
   "execution_count": 6,
   "metadata": {},
   "outputs": [],
   "source": [
    "from statsmodels.tsa.statespace.sarimax import SARIMAX"
   ]
  },
  {
   "cell_type": "code",
   "execution_count": 13,
   "metadata": {},
   "outputs": [],
   "source": [
    "# Initialize list\n",
    "order_aic_bic = []\n",
    "# Loop over p values from 0-3\n",
    "for p in range(4):\n",
    "    # Loop over q values from 0-3\n",
    "    for q in range(4):\n",
    "        try:\n",
    "            # create and fit ARMA(p,q) model\n",
    "            model = SARIMAX(uen['UNRATE'], order=(p, 2, q))\n",
    "            # model = SARIMAX(uen, order=(p, 1, q), trend='c') #if constant trend\n",
    "            results = model.fit()\n",
    "            # Append order and results tuple\n",
    "            order_aic_bic.append((p, q, results.aic, results.bic))\n",
    "        except:\n",
    "            order_aic_bic.append((p, q, None, None))"
   ]
  },
  {
   "cell_type": "markdown",
   "metadata": {},
   "source": [
    "Once we have the list with different combinations of AIC/BIC, we print in ascending order to get the ideal values for our model."
   ]
  },
  {
   "cell_type": "code",
   "execution_count": 8,
   "metadata": {},
   "outputs": [
    {
     "name": "stdout",
     "output_type": "stream",
     "text": [
      "    p  q        AIC        BIC\n",
      "2   0  2 -77.018022 -70.836693\n",
      "6   1  2 -75.257282 -67.015510\n",
      "3   0  3 -75.154828 -66.913056\n",
      "9   2  1 -74.055303 -65.813531\n",
      "5   1  1 -73.921403 -67.740074\n",
      "7   1  3 -73.111927 -62.809712\n",
      "15  3  3 -72.576559 -58.153458\n",
      "10  2  2 -72.061873 -61.759658\n",
      "13  3  1 -72.053173 -61.750958\n",
      "14  3  2 -70.081913 -57.719255\n",
      "11  2  3 -69.900187 -57.537529\n",
      "1   0  1 -63.942888 -59.822002\n",
      "12  3  0 -57.029137 -48.787365\n",
      "8   2  0 -55.519890 -49.338561\n",
      "4   1  0 -39.926185 -35.805299\n",
      "0   0  0  -8.572776  -6.512333\n",
      "    p  q        AIC        BIC\n",
      "2   0  2 -77.018022 -70.836693\n",
      "5   1  1 -73.921403 -67.740074\n",
      "6   1  2 -75.257282 -67.015510\n",
      "3   0  3 -75.154828 -66.913056\n",
      "9   2  1 -74.055303 -65.813531\n",
      "7   1  3 -73.111927 -62.809712\n",
      "10  2  2 -72.061873 -61.759658\n",
      "13  3  1 -72.053173 -61.750958\n",
      "1   0  1 -63.942888 -59.822002\n",
      "15  3  3 -72.576559 -58.153458\n",
      "14  3  2 -70.081913 -57.719255\n",
      "11  2  3 -69.900187 -57.537529\n",
      "8   2  0 -55.519890 -49.338561\n",
      "12  3  0 -57.029137 -48.787365\n",
      "4   1  0 -39.926185 -35.805299\n",
      "0   0  0  -8.572776  -6.512333\n"
     ]
    }
   ],
   "source": [
    "# Construct DataFrame from order_aic_bic\n",
    "order_df = pd.DataFrame(order_aic_bic,\n",
    "                        columns=['p', 'q', 'AIC', 'BIC'])\n",
    "# Print order_df in order of increasing AIC and BIC and choose the minimum\n",
    "print(order_df.sort_values('AIC'))\n",
    "print(order_df.sort_values('BIC'))"
   ]
  },
  {
   "cell_type": "markdown",
   "metadata": {},
   "source": [
    "Both AIC and BIC give us the same parameters for our model.  We will therefore use an ARMA(0, 2) model.\n",
    "\n",
    "Then, we input the calculated values and get our model."
   ]
  },
  {
   "cell_type": "code",
   "execution_count": 14,
   "metadata": {},
   "outputs": [],
   "source": [
    "model = SARIMAX(uen, order=(0, 2, 2), trend='c')\n",
    "results = model.fit()"
   ]
  },
  {
   "cell_type": "code",
   "execution_count": 10,
   "metadata": {},
   "outputs": [],
   "source": [
    "# Make in-sample prediction\n",
    "forecast = results.get_prediction(start=-20, dynamic=True)"
   ]
  },
  {
   "cell_type": "markdown",
   "metadata": {},
   "source": [
    "Great! Now that we have the forecast, we print its mean and the confidence interval vs. the actual series to illustrate the accuracy of our model."
   ]
  },
  {
   "cell_type": "code",
   "execution_count": 11,
   "metadata": {},
   "outputs": [
    {
     "data": {
      "image/png": "[encoded data removed]",
      "text/plain": [
       "<Figure size 432x288 with 1 Axes>"
      ]
     },
     "metadata": {
      "needs_background": "light"
     },
     "output_type": "display_data"
    }
   ],
   "source": [
    "# Plot prediction\n",
    "plt.plot(uen.index, uen.values)\n",
    "plt.plot(forecast.predicted_mean.index,\n",
    "         forecast.predicted_mean.values,\n",
    "         color='red',\n",
    "         label='forecast')\n",
    "# Shade confidence interval\n",
    "test = forecast.conf_int()\n",
    "lower_limits = test.iloc[:, 0]\n",
    "upper_limits = test.iloc[:, 1]\n",
    "plt.fill_between(lower_limits.index, lower_limits, upper_limits, color='pink')\n",
    "\n",
    "plt.show() "
   ]
  },
  {
   "cell_type": "markdown",
   "metadata": {},
   "source": [
    "Our predictor is not too bad!"
   ]
  },
  {
   "cell_type": "code",
   "execution_count": null,
   "metadata": {},
   "outputs": [],
   "source": []
  }
 ],
 "metadata": {
  "kernelspec": {
   "display_name": "Python 3",
   "language": "python",
   "name": "python3"
  },
  "language_info": {
   "codemirror_mode": {
    "name": "ipython",
    "version": 3
   },
   "file_extension": ".py",
   "mimetype": "text/x-python",
   "name": "python",
   "nbconvert_exporter": "python",
   "pygments_lexer": "ipython3",
   "version": "3.8.3"
  }
 },
 "nbformat": 4,
 "nbformat_minor": 4
}
