{
 "cells": [
  {
   "cell_type": "markdown",
   "metadata": {},
   "source": [
    "In this Jupyter Notebook, we will study the US unemployment rate between 1996 and 2006.  We will use a Python ARIMA model to generate a predictor and plot our predictor vs the actual time series.  This Notebook is part of the analysis of the effects of on-stationarity in time series and should NOT be used in production as it is used for illustrative purposes only.\n",
    "\n",
    "The process we will follow:\n",
    "1. Load and filter our data\n",
    "2. Use the Augmented Dickey-Fuller test to calculate the number of times we need to differenciate (if any) to eliminate trends in our data.\n",
    "3. We will iteratively test SARIMAX models from statsmodels to finde the parameters of our ARMA model.  We will try to minimize AIC/BIC to find the best values\n",
    "4. With the parameters found in 2 and 3, we will fit our time series and predict values for the last 20 months of the series.\n",
    "5. We will plot the predictions vs the actual time series"
   ]
  },
  {
   "cell_type": "code",
   "execution_count": 1,
   "metadata": {},
   "outputs": [],
   "source": [
    "import pandas as pd\n",
    "import numpy as np\n",
    "import matplotlib.pyplot as plt"
   ]
  },
  {
   "cell_type": "code",
   "execution_count": 13,
   "metadata": {},
   "outputs": [],
   "source": [
    "import warnings\n",
    "warnings.filterwarnings('ignore')\n",
    "warnings.simplefilter('ignore')"
   ]
  },
  {
   "cell_type": "markdown",
   "metadata": {},
   "source": [
    "First things first, we load our data and filter the period that we will study in this notebook.\n",
    "\n",
    "The US unemployment data was downloaded from https://fred.stlouisfed.org/.  "
   ]
  },
  {
   "cell_type": "code",
   "execution_count": 3,
   "metadata": {},
   "outputs": [],
   "source": [
    "# Load Unemployment rate\n",
    "uen = pd.read_csv('UNRATE.csv', parse_dates=True, index_col='DATE')\n",
    "uen = uen['1996-01-01':'2006-12-31'].dropna()"
   ]
  },
  {
   "cell_type": "code",
   "execution_count": 4,
   "metadata": {},
   "outputs": [
    {
     "data": {
      "image/png": "[encoded data removed]",
      "text/plain": [
       "<Figure size 432x288 with 1 Axes>"
      ]
     },
     "metadata": {
      "needs_background": "light"
     },
     "output_type": "display_data"
    }
   ],
   "source": [
    "uen.plot()\n",
    "plt.show()"
   ]
  },
  {
   "cell_type": "markdown",
   "metadata": {},
   "source": [
    "We get the number of differencing needed using the Augmented Dickey-Fuller test. "
   ]
  },
  {
   "cell_type": "code",
   "execution_count": 5,
   "metadata": {},
   "outputs": [],
   "source": [
    "# Import adfuller from statsmodels\n",
    "from statsmodels.tsa.stattools import adfuller"
   ]
  },
  {
   "cell_type": "code",
   "execution_count": 6,
   "metadata": {},
   "outputs": [
    {
     "name": "stdout",
     "output_type": "stream",
     "text": [
      "ADF Statistic: -1.4389625208264603\n",
      "p-value: 0.5634611210039485\n",
      "1st differencing ADF Statistic: -4.959648055838395\n",
      "1st differencing p-value: 2.6657340992906748e-05\n",
      "2nd differencing ADF Statistic: -6.937215005690739\n",
      "2nd differencing p-value: 1.047139688267331e-09\n",
      "3rd differencing ADF Statistic: -6.695043007645027\n",
      "3rd differencing p-value: 4.019426718481913e-09\n",
      "...\n",
      "12th differencing ADF Statistic: -13.515338258459085\n",
      "12th differencing p-value: 2.80150477414719e-25\n"
     ]
    }
   ],
   "source": [
    "# Get the differencing\n",
    "adf = adfuller(uen.iloc[:, 0])\n",
    "print('ADF Statistic:', adf[0])\n",
    "print('p-value:', adf[1])\n",
    "\n",
    "# First differencing\n",
    "adf = adfuller(uen.diff().dropna().iloc[:,0])\n",
    "print('1st differencing ADF Statistic:', adf[0])\n",
    "print('1st differencing p-value:', adf[1])\n",
    "\n",
    "# Second differencing\n",
    "adf = adfuller(uen.diff().diff().dropna().iloc[:,0])\n",
    "print('2nd differencing ADF Statistic:', adf[0])\n",
    "print('2nd differencing p-value:', adf[1])\n",
    "\n",
    "# Third differencing\n",
    "adf = adfuller(uen.diff().diff().diff().dropna().iloc[:,0])\n",
    "print('3rd differencing ADF Statistic:', adf[0])\n",
    "print('3rd differencing p-value:', adf[1])\n",
    "\n",
    "print('...')\n",
    "\n",
    "# 12th differencing\n",
    "adf = adfuller(uen.diff().diff().diff().diff().diff().diff().diff().diff().diff().diff().diff().diff().dropna().iloc[:,0])\n",
    "print('12th differencing ADF Statistic:', adf[0])\n",
    "print('12th differencing p-value:', adf[1])"
   ]
  },
  {
   "cell_type": "markdown",
   "metadata": {},
   "source": [
    "We can already see that we can't eliminate the trend on this time series, even after differencing 12 times, as there is not any single one.\n",
    "\n",
    "Our smallest p-value is obtained after one differencing, so we will proceed to a single differencing for the next steps of this Notebook."
   ]
  },
  {
   "cell_type": "markdown",
   "metadata": {},
   "source": [
    "The next step, we get the best ARMA parameters with AIC/BIC.\n",
    "\n",
    "So, we loop AIC / BIC models, trying to find the one that minimizes both."
   ]
  },
  {
   "cell_type": "code",
   "execution_count": 7,
   "metadata": {},
   "outputs": [],
   "source": [
    "from statsmodels.tsa.statespace.sarimax import SARIMAX"
   ]
  },
  {
   "cell_type": "code",
   "execution_count": 14,
   "metadata": {},
   "outputs": [],
   "source": [
    "# Initialize list\n",
    "order_aic_bic = []\n",
    "# Loop over p values from 0-3\n",
    "for p in range(4):\n",
    "    # Loop over q values from 0-3\n",
    "    for q in range(4):\n",
    "        try:\n",
    "            # create and fit ARMA(p,q) model\n",
    "            model = SARIMAX(uen, order=(p, 1, q))\n",
    "            results = model.fit()\n",
    "            # Append order and results tuple\n",
    "            order_aic_bic.append((p, q, results.aic, results.bic))\n",
    "        except:\n",
    "            order_aic_bic.append((p, q, None, None))"
   ]
  },
  {
   "cell_type": "markdown",
   "metadata": {},
   "source": [
    "Once we have the list with different combinations of AIC/BIC, we print in ascending order to get the ideal values for our model."
   ]
  },
  {
   "cell_type": "code",
   "execution_count": 9,
   "metadata": {},
   "outputs": [
    {
     "name": "stdout",
     "output_type": "stream",
     "text": [
      "    p  q         AIC         BIC\n",
      "9   2  1 -170.776369 -159.275579\n",
      "6   1  2 -170.102506 -158.601717\n",
      "7   1  3 -168.968978 -154.592992\n",
      "13  3  1 -168.800186 -154.424200\n",
      "10  2  2 -168.792063 -154.416076\n",
      "12  3  0 -168.647719 -157.146930\n",
      "2   0  2 -168.247003 -159.621411\n",
      "14  3  2 -167.408547 -150.157363\n",
      "3   0  3 -167.386270 -155.885481\n",
      "11  2  3 -166.985547 -149.734363\n",
      "8   2  0 -166.142011 -157.516419\n",
      "15  3  3 -166.125416 -145.999035\n",
      "4   1  0 -164.228557 -158.478162\n",
      "0   0  0 -164.004777 -161.129579\n",
      "1   0  1 -163.606414 -157.856020\n",
      "5   1  1 -163.298206 -154.672614\n",
      "    p  q         AIC         BIC\n",
      "0   0  0 -164.004777 -161.129579\n",
      "2   0  2 -168.247003 -159.621411\n",
      "9   2  1 -170.776369 -159.275579\n",
      "6   1  2 -170.102506 -158.601717\n",
      "4   1  0 -164.228557 -158.478162\n",
      "1   0  1 -163.606414 -157.856020\n",
      "8   2  0 -166.142011 -157.516419\n",
      "12  3  0 -168.647719 -157.146930\n",
      "3   0  3 -167.386270 -155.885481\n",
      "5   1  1 -163.298206 -154.672614\n",
      "7   1  3 -168.968978 -154.592992\n",
      "13  3  1 -168.800186 -154.424200\n",
      "10  2  2 -168.792063 -154.416076\n",
      "14  3  2 -167.408547 -150.157363\n",
      "11  2  3 -166.985547 -149.734363\n",
      "15  3  3 -166.125416 -145.999035\n"
     ]
    }
   ],
   "source": [
    "# Construct DataFrame from order_aic_bic\n",
    "order_df = pd.DataFrame(order_aic_bic,\n",
    "                        columns=['p', 'q', 'AIC', 'BIC'])\n",
    "# Print order_df in order of increasing AIC and BIC and choose the minimum\n",
    "print(order_df.sort_values('AIC'))\n",
    "print(order_df.sort_values('BIC'))"
   ]
  },
  {
   "cell_type": "markdown",
   "metadata": {},
   "source": [
    "Both AIC and BIC give us  different parameters for our model.  As we are looking for a predictive model, theory dictates that we should give preference to the AIC-minimizing parameters. \n",
    "\n",
    "Then, we input the calculated values and get our model."
   ]
  },
  {
   "cell_type": "code",
   "execution_count": 15,
   "metadata": {},
   "outputs": [],
   "source": [
    "model = SARIMAX(uen, order=(2, 1, 1))\n",
    "results = model.fit()"
   ]
  },
  {
   "cell_type": "code",
   "execution_count": 11,
   "metadata": {},
   "outputs": [],
   "source": [
    "# Make in-sample prediction\n",
    "forecast = results.get_prediction(start=-20, dynamic=True)"
   ]
  },
  {
   "cell_type": "markdown",
   "metadata": {},
   "source": [
    "Great! Now that we have the forecast, we print its mean and the confidence interval vs. the actual series to illustrate the accuracy of our model."
   ]
  },
  {
   "cell_type": "code",
   "execution_count": 12,
   "metadata": {},
   "outputs": [
    {
     "data": {
      "image/png": "[encoded data removed]",
      "text/plain": [
       "<Figure size 432x288 with 1 Axes>"
      ]
     },
     "metadata": {
      "needs_background": "light"
     },
     "output_type": "display_data"
    }
   ],
   "source": [
    "# Plot prediction\n",
    "plt.plot(uen.index, uen.values)\n",
    "plt.plot(forecast.predicted_mean.index,\n",
    "         forecast.predicted_mean.values,\n",
    "         color='red',\n",
    "         label='forecast')\n",
    "# Shade confidence interval\n",
    "test = forecast.conf_int()\n",
    "lower_limits = test.iloc[:, 0]\n",
    "upper_limits = test.iloc[:, 1]\n",
    "plt.fill_between(lower_limits.index, lower_limits, upper_limits, color='pink')\n",
    "\n",
    "plt.show() "
   ]
  },
  {
   "cell_type": "markdown",
   "metadata": {},
   "source": [
    "Our predictor is not good!"
   ]
  },
  {
   "cell_type": "code",
   "execution_count": null,
   "metadata": {},
   "outputs": [],
   "source": []
  }
 ],
 "metadata": {
  "kernelspec": {
   "display_name": "Python 3",
   "language": "python",
   "name": "python3"
  },
  "language_info": {
   "codemirror_mode": {
    "name": "ipython",
    "version": 3
   },
   "file_extension": ".py",
   "mimetype": "text/x-python",
   "name": "python",
   "nbconvert_exporter": "python",
   "pygments_lexer": "ipython3",
   "version": "3.8.3"
  }
 },
 "nbformat": 4,
 "nbformat_minor": 4
}
